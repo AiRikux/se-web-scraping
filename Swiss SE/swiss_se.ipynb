{
 "cells": [
  {
   "cell_type": "markdown",
   "id": "38beb9d3",
   "metadata": {},
   "source": [
    "# Swiss Stock Exchange\n",
    "\n",
    "Here we scrape the entirety of company list in the Swiss Stock Exchange and get their issued capital number."
   ]
  },
  {
   "cell_type": "markdown",
   "id": "39a410b5",
   "metadata": {},
   "source": [
    "## Library"
   ]
  },
  {
   "cell_type": "code",
   "execution_count": null,
   "id": "c204ac9e",
   "metadata": {},
   "outputs": [],
   "source": [
    "import requests\n",
    "import pandas as pd\n",
    "import json\n",
    "from time import sleep\n",
    "from bs4 import BeautifulSoup\n",
    "from selenium import webdriver\n",
    "from selenium.webdriver.chrome.options import Options\n",
    "from time import sleep"
   ]
  },
  {
   "cell_type": "markdown",
   "id": "8b17b898",
   "metadata": {},
   "source": [
    "## Define Main Function"
   ]
  },
  {
   "cell_type": "code",
   "execution_count": null,
   "id": "e149dbad",
   "metadata": {},
   "outputs": [],
   "source": [
    "def swiss_isscap():\n",
    "    myheader = {'User-Agent': 'Mozilla/5.0 (Windows NT 10.0; Win64; x64) AppleWebKit/537.36 (KHTML, like Gecko) Chrome/118.0.0.0 Safari/537.36 Edg/118.0.2088.46', 'Accept-Encoding': 'gzip, deflate, br', 'Accept': '*/*', 'Connection': 'keep-alive'}\n",
    "\n",
    "    # get list of isins\n",
    "    the_link = \"https://www.six-group.com/sheldon/equity_issuers/v1/equity_issuers.json\"\n",
    "    r = requests.get(the_link, headers = myheader)\n",
    "    data = pd.DataFrame.from_dict(r.json()['itemList'])\n",
    "    data = data[['company','isin']]\n",
    "\n",
    "    # get issued capital\n",
    "    for index, row in data.iterrows():\n",
    "        the_link = f\"https://www.six-group.com/sheldon/share_details/v1/{row[1]}/share/info.json\"\n",
    "        r = requests.get(the_link, headers = myheader)\n",
    "        try:\n",
    "            details = r.json()['itemList'][0]\n",
    "            data.loc[index, 'Valor Symbol'] = details['valorSymbol']\n",
    "            data.loc[index, 'Number in Issue'] = details['numberInIssue']\n",
    "        except:\n",
    "            try:\n",
    "                # request page with selenium\n",
    "                chrome_options = Options()\n",
    "                chrome_options.headless = True\n",
    "\n",
    "                the_link = f\"https://www.six-group.com/en/products-services/the-swiss-stock-exchange/market-data/shares/share-explorer/share-details.{row[1]}CHF4.html#/share-details\"\n",
    "\n",
    "                dr = webdriver.Chrome(options=chrome_options)\n",
    "                dr.get(the_link)\n",
    "\n",
    "                sleep(5)\n",
    "\n",
    "                # Read HTML File\n",
    "                soup = BeautifulSoup(dr.page_source, \"html.parser\")\n",
    "\n",
    "                data.loc[index, 'Valor Symbol'] = soup.find_all('dd', {'class':'data-pair-value'})[0].text\n",
    "                data.loc[index, 'Number in Issue'] = soup.find_all('dd', {'class':'data-pair-value'})[11].text.replace(\"'\", \"\")\n",
    "\n",
    "                dr.quit()\n",
    "\n",
    "            except:\n",
    "                data.loc[index, 'Valor Symbol'] = None\n",
    "                data.loc[index, 'Number in Issue'] = None\n",
    "\n",
    "        sleep(1)\n",
    "\n",
    "    data['Number in Issue'] = data['Number in Issue'].astype('float')\n",
    "\n",
    "    if len(data.loc[data['Number in Issue'].isnull()]):\n",
    "        print(f\"Please check file, unable to get {len(data.loc[data['Number in Issue'].isnull()])} listing(s)\")\n",
    "\n",
    "    data.to_excel(\"swiss_issuedcapital.xlsx\", index = True)\n",
    "    print(\"Process completed\")"
   ]
  }
 ],
 "metadata": {
  "kernelspec": {
   "display_name": "Python 3 (ipykernel)",
   "language": "python",
   "name": "python3"
  },
  "language_info": {
   "codemirror_mode": {
    "name": "ipython",
    "version": 3
   },
   "file_extension": ".py",
   "mimetype": "text/x-python",
   "name": "python",
   "nbconvert_exporter": "python",
   "pygments_lexer": "ipython3",
   "version": "3.9.18"
  }
 },
 "nbformat": 4,
 "nbformat_minor": 5
}
